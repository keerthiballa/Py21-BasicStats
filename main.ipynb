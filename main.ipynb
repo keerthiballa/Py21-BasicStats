{
 "cells": [
  {
   "cell_type": "code",
   "execution_count": 115,
   "metadata": {},
   "outputs": [],
   "source": [
    "import statzcw.formulas as sf\n",
    "import pandas as pd\n",
    "import numpy as np\n",
    "import matplotlib.pyplot as plt\n",
    "import seaborn as sns"
   ]
  },
  {
   "cell_type": "code",
   "execution_count": 116,
   "metadata": {},
   "outputs": [],
   "source": [
    "files = pd.Series(['dataZero.csv','dataOne.csv', 'dataTwo.csv','dataThree.csv'])"
   ]
  },
  {
   "cell_type": "code",
   "execution_count": 117,
   "metadata": {},
   "outputs": [],
   "source": [
    "df0, df1, df2, df3 = [pd.read_csv(i) for i in files]"
   ]
  },
  {
   "cell_type": "code",
   "execution_count": 118,
   "metadata": {},
   "outputs": [],
   "source": [
    "df0[\"x\"]=df0['x'].astype('float')\n",
    "df0[\"y\"]=df0['y'].astype('float')\n",
    "df1[\"x\"]=df1['x'].astype('float')\n",
    "df1[\"y\"]=df1['y'].astype('float')\n",
    "df2[\"x\"]=df2['x'].astype('float')\n",
    "df2[\"y\"]=df2['y'].astype('float')\n",
    "df3[\"x\"]=df3['x'].astype('float')\n",
    "df3[\"y\"]=df3['y'].astype('float')\n"
   ]
  },
  {
   "cell_type": "code",
   "execution_count": 119,
   "metadata": {},
   "outputs": [
    {
     "data": {
      "text/plain": [
       "x    float64\n",
       "y    float64\n",
       "dtype: object"
      ]
     },
     "execution_count": 119,
     "metadata": {},
     "output_type": "execute_result"
    }
   ],
   "source": [
    "df0.dtypes\n"
   ]
  },
  {
   "cell_type": "code",
   "execution_count": 120,
   "metadata": {},
   "outputs": [
    {
     "name": "stdout",
     "output_type": "stream",
     "text": [
      "<class 'pandas.core.frame.DataFrame'>\n",
      "RangeIndex: 11 entries, 0 to 10\n",
      "Data columns (total 2 columns):\n",
      " #   Column  Non-Null Count  Dtype  \n",
      "---  ------  --------------  -----  \n",
      " 0   x       11 non-null     float64\n",
      " 1   y       11 non-null     float64\n",
      "dtypes: float64(2)\n",
      "memory usage: 304.0 bytes\n"
     ]
    }
   ],
   "source": [
    "df1.info()"
   ]
  },
  {
   "cell_type": "code",
   "execution_count": 121,
   "metadata": {},
   "outputs": [],
   "source": [
    "X1=df1['x'].tolist()\n",
    "Y1=df1['y'].tolist()\n",
    "X2=df2['x'].tolist()\n",
    "Y2=df2['y'].tolist()\n",
    "X3=df3['x'].tolist()\n",
    "Y3=df3['y'].tolist()\n",
    "X0=df0['x'].tolist()\n",
    "Y0=df0['y'].tolist()"
   ]
  },
  {
   "cell_type": "code",
   "execution_count": 122,
   "metadata": {},
   "outputs": [],
   "source": [
    "dict = {\"x0\":X0,\"y0\":Y0,\"x1\":X1,\"y1\":Y1,\"x2\":X2,\"y2\":Y2,\"x3\":X3,\"y3\":Y3}"
   ]
  },
  {
   "cell_type": "code",
   "execution_count": 123,
   "metadata": {},
   "outputs": [
    {
     "data": {
      "text/plain": [
       "{'x0': [10.0, 8.0, 13.0, 9.0, 11.0, 14.0, 6.0, 4.0, 12.0, 7.0, 5.0],\n",
       " 'y0': [8.04, 6.95, 7.58, 8.81, 8.33, 9.96, 7.24, 4.26, 10.84, 4.82, 5.68],\n",
       " 'x1': [10.0, 8.0, 13.0, 9.0, 11.0, 14.0, 6.0, 4.0, 12.0, 7.0, 5.0],\n",
       " 'y1': [9.14, 8.14, 8.74, 8.77, 9.26, 8.1, 6.13, 3.1, 9.13, 7.26, 4.74],\n",
       " 'x2': [10.0, 8.0, 13.0, 9.0, 11.0, 14.0, 6.0, 4.0, 12.0, 7.0, 5.0],\n",
       " 'y2': [7.46, 6.77, 12.74, 7.11, 7.81, 8.84, 6.08, 5.39, 8.15, 6.42, 5.73],\n",
       " 'x3': [8.0, 8.0, 8.0, 8.0, 8.0, 8.0, 8.0, 19.0, 8.0, 8.0, 8.0],\n",
       " 'y3': [6.58, 5.76, 7.71, 8.84, 8.47, 7.04, 5.25, 12.5, 5.56, 7.91, 6.89]}"
      ]
     },
     "execution_count": 123,
     "metadata": {},
     "output_type": "execute_result"
    }
   ],
   "source": [
    "dict"
   ]
  },
  {
   "cell_type": "code",
   "execution_count": 124,
   "metadata": {},
   "outputs": [
    {
     "data": {
      "text/plain": [
       "'Statistical Measures: '"
      ]
     },
     "execution_count": 124,
     "metadata": {},
     "output_type": "execute_result"
    }
   ],
   "source": [
    "\"Statistical Measures: \""
   ]
  },
  {
   "cell_type": "code",
   "execution_count": 125,
   "metadata": {},
   "outputs": [
    {
     "name": "stdout",
     "output_type": "stream",
     "text": [
      "Count of  x0 11   Mean of  x0 9.0 \tSample variance of  x0 11.0 \tMode of  x0 None \tMedian of  x0 9.0 \tSample standard deviation of  x0 3.317 \tStandard error of the mean of  x0 1.0\n",
      "Count of  y0 11   Mean of  y0 7.501 \tSample variance of  y0 4.127 \tMode of  y0 None \tMedian of  y0 7.58 \tSample standard deviation of  y0 2.032 \tStandard error of the mean of  y0 0.613\n",
      "Count of  x1 11   Mean of  x1 9.0 \tSample variance of  x1 11.0 \tMode of  x1 None \tMedian of  x1 9.0 \tSample standard deviation of  x1 3.317 \tStandard error of the mean of  x1 1.0\n",
      "Count of  y1 11   Mean of  y1 7.501 \tSample variance of  y1 4.128 \tMode of  y1 None \tMedian of  y1 8.14 \tSample standard deviation of  y1 2.032 \tStandard error of the mean of  y1 0.613\n",
      "Count of  x2 11   Mean of  x2 9.0 \tSample variance of  x2 11.0 \tMode of  x2 None \tMedian of  x2 9.0 \tSample standard deviation of  x2 3.317 \tStandard error of the mean of  x2 1.0\n",
      "Count of  y2 11   Mean of  y2 7.5 \tSample variance of  y2 4.123 \tMode of  y2 None \tMedian of  y2 7.11 \tSample standard deviation of  y2 2.03 \tStandard error of the mean of  y2 0.612\n",
      "Count of  x3 11   Mean of  x3 9.0 \tSample variance of  x3 11.0 \tMode of  x3 8.0 \tMedian of  x3 8.0 \tSample standard deviation of  x3 3.317 \tStandard error of the mean of  x3 1.0\n",
      "Count of  y3 11   Mean of  y3 7.501 \tSample variance of  y3 4.123 \tMode of  y3 None \tMedian of  y3 7.04 \tSample standard deviation of  y3 2.031 \tStandard error of the mean of  y3 0.612\n"
     ]
    }
   ],
   "source": [
    "for k in dict:\n",
    "    print(\"Count of \", k, sf.zcount(dict[k]),\"  Mean of \",k, round(sf.zmean(dict[k]),3), \"\\tSample variance of \",k, round(sf.zvariance(dict[k]),3), \"\\tMode of \", k, sf.zmode(dict[k]), \"\\tMedian of \",k, round(sf.zmedian(dict[k]),3), \"\\tSample standard deviation of \",k, round(sf.zstddev(dict[k]),3), \"\\tStandard error of the mean of \",k, round(sf.zstderr(dict[k]),3))\n",
    "        \n"
   ]
  },
  {
   "cell_type": "code",
   "execution_count": 126,
   "metadata": {},
   "outputs": [
    {
     "name": "stdout",
     "output_type": "stream",
     "text": [
      "Correlation between  x0  and  y0  is 0.986\n",
      "Correlation between  x1  and  y1  is 0.906\n",
      "Correlation between  x2  and  y2  is 0.874\n",
      "Correlation between  x3  and  y3  is 0.817\n"
     ]
    }
   ],
   "source": [
    "keys=iter(list(dict.keys()))\n",
    "#print(keys)\n",
    "for keyx in keys:\n",
    "    keyy=next(keys)\n",
    "    print(\"Correlation between \",keyx,\" and \",keyy,\" is\", round(sf.zcorr(dict[keyx],dict[keyy]),3))"
   ]
  },
  {
   "cell_type": "code",
   "execution_count": 127,
   "metadata": {},
   "outputs": [
    {
     "name": "stderr",
     "output_type": "stream",
     "text": [
      "/Users/ballakeerthi/opt/anaconda3/lib/python3.8/site-packages/seaborn/_decorators.py:36: FutureWarning: Pass the following variables as keyword args: x, y. From version 0.12, the only valid positional argument will be `data`, and passing other arguments without an explicit keyword will result in an error or misinterpretation.\n",
      "  warnings.warn(\n"
     ]
    },
    {
     "data": {
      "text/plain": [
       "Text(0.5, 1.0, 'File 0: scatter plot of x vs y')"
      ]
     },
     "execution_count": 127,
     "metadata": {},
     "output_type": "execute_result"
    },
    {
     "data": {
      "image/png": "[encoded data removed]",
      "text/plain": [
       "<Figure size 432x288 with 1 Axes>"
      ]
     },
     "metadata": {
      "needs_background": "light"
     },
     "output_type": "display_data"
    }
   ],
   "source": [
    "sns.regplot('x','y',data=df0)\n",
    "plt.title('File 0: scatter plot of x vs y')"
   ]
  },
  {
   "cell_type": "code",
   "execution_count": 128,
   "metadata": {},
   "outputs": [
    {
     "name": "stderr",
     "output_type": "stream",
     "text": [
      "/Users/ballakeerthi/opt/anaconda3/lib/python3.8/site-packages/seaborn/_decorators.py:36: FutureWarning: Pass the following variables as keyword args: x, y. From version 0.12, the only valid positional argument will be `data`, and passing other arguments without an explicit keyword will result in an error or misinterpretation.\n",
      "  warnings.warn(\n"
     ]
    },
    {
     "data": {
      "text/plain": [
       "Text(0.5, 1.0, 'File 1: scatter plot of x vs y')"
      ]
     },
     "execution_count": 128,
     "metadata": {},
     "output_type": "execute_result"
    },
    {
     "data": {
      "image/png": "[encoded data removed]",
      "text/plain": [
       "<Figure size 432x288 with 1 Axes>"
      ]
     },
     "metadata": {
      "needs_background": "light"
     },
     "output_type": "display_data"
    }
   ],
   "source": [
    "sns.regplot('x','y',data=df1)\n",
    "plt.title('File 1: scatter plot of x vs y')"
   ]
  },
  {
   "cell_type": "code",
   "execution_count": 129,
   "metadata": {},
   "outputs": [
    {
     "name": "stderr",
     "output_type": "stream",
     "text": [
      "/Users/ballakeerthi/opt/anaconda3/lib/python3.8/site-packages/seaborn/_decorators.py:36: FutureWarning: Pass the following variables as keyword args: x, y. From version 0.12, the only valid positional argument will be `data`, and passing other arguments without an explicit keyword will result in an error or misinterpretation.\n",
      "  warnings.warn(\n"
     ]
    },
    {
     "data": {
      "text/plain": [
       "Text(0.5, 1.0, 'File 2: scatter plot of x vs y')"
      ]
     },
     "execution_count": 129,
     "metadata": {},
     "output_type": "execute_result"
    },
    {
     "data": {
      "image/png": "[encoded data removed]",
      "text/plain": [
       "<Figure size 432x288 with 1 Axes>"
      ]
     },
     "metadata": {
      "needs_background": "light"
     },
     "output_type": "display_data"
    }
   ],
   "source": [
    "sns.regplot('x','y',data=df2)\n",
    "plt.title('File 2: scatter plot of x vs y')"
   ]
  },
  {
   "cell_type": "code",
   "execution_count": 130,
   "metadata": {},
   "outputs": [
    {
     "name": "stderr",
     "output_type": "stream",
     "text": [
      "/Users/ballakeerthi/opt/anaconda3/lib/python3.8/site-packages/seaborn/_decorators.py:36: FutureWarning: Pass the following variables as keyword args: x, y. From version 0.12, the only valid positional argument will be `data`, and passing other arguments without an explicit keyword will result in an error or misinterpretation.\n",
      "  warnings.warn(\n"
     ]
    },
    {
     "data": {
      "text/plain": [
       "Text(0.5, 1.0, 'File 3: scatter plot of x vs y')"
      ]
     },
     "execution_count": 130,
     "metadata": {},
     "output_type": "execute_result"
    },
    {
     "data": {
      "image/png": "[encoded data removed]",
      "text/plain": [
       "<Figure size 432x288 with 1 Axes>"
      ]
     },
     "metadata": {
      "needs_background": "light"
     },
     "output_type": "display_data"
    }
   ],
   "source": [
    "sns.regplot('x','y',data=df3)\n",
    "plt.title('File 3: scatter plot of x vs y')"
   ]
  },
  {
   "cell_type": "markdown",
   "metadata": {},
   "source": [
    "### What do the statistics show about these four data sets:\n",
    "- the sets are very similar with regards to count, mean, sample variance, sample standard deviation & standard error of the mean, but differ with regards to mode and median\n",
    "- x and y are more correlated in files 0 & 1 than in files 2 & 3\n",
    "\n",
    "### My observation: \n",
    "- Even though some of the statistical measures are identical/very similar, the x&y values differ. Meaning that when plotted on a graph, they create different scatter plots with different possible outliers (as shown in the plots above). \n",
    "- Bottomline is that we should not rely solely on statistical measures but also look at the graphical plots to arrive at our conclusions about given data."
   ]
  }
 ],
 "metadata": {
  "interpreter": {
   "hash": "2897f163c0b76a61bffe0db677340b9e37ff9ab10e3d1741569a7315111afa70"
  },
  "kernelspec": {
   "display_name": "Python 3",
   "language": "python",
   "name": "python3"
  },
  "language_info": {
   "codemirror_mode": {
    "name": "ipython",
    "version": 3
   },
   "file_extension": ".py",
   "mimetype": "text/x-python",
   "name": "python",
   "nbconvert_exporter": "python",
   "pygments_lexer": "ipython3",
   "version": "3.8.8"
  }
 },
 "nbformat": 4,
 "nbformat_minor": 2
}
